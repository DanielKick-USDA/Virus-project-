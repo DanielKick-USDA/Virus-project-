{
 "cells": [
  {
   "cell_type": "markdown",
   "id": "afcdeaf1-f65c-48a4-8e43-ba955e319f27",
   "metadata": {},
   "source": [
    "# Improved Name Generator\n",
    "\n",
    "We follow the video linked below and make slight alterations for the convience of a diference in format\n",
    ">https://www.youtube.com/watch?v=TCH_1BHY58I\n",
    "\n",
    "Our goal in this notebook is to out line the creation of an improved name generator that is more flexible than the one made in the prior notebook. We wish to have flexibility in how much information (the size of the n-gram) is fed in without exploding the storage. In the last note book, one may have realized that in making a trigram models we used tensors of size 27 x27 x27. For any n-gram model, using the previous format, we would require tensors of size 27^n. This quickly becomes too large for a computer to handle. Instead, we are going to use methods of collapsing the data into lower dimensions. We start this project exactly the same as the prior model - by importing our APIs, names, and creating functions between integers and the alphabet."
   ]
  },
  {
   "cell_type": "code",
   "execution_count": 1,
   "id": "96ac1024-d7b8-4057-8760-0645e8fbe4d5",
   "metadata": {},
   "outputs": [],
   "source": [
    "import torch\n",
    "import torch.nn.functional as F\n",
    "import matplotlib.pyplot as plt\n",
    "import random\n",
    "%matplotlib inline"
   ]
  },
  {
   "cell_type": "code",
   "execution_count": 2,
   "id": "9eeb2f24-3441-4d9e-bdff-3bcd2e071a38",
   "metadata": {},
   "outputs": [],
   "source": [
    "words = open('names.txt', 'r').read().splitlines()"
   ]
  },
  {
   "cell_type": "code",
   "execution_count": 3,
   "id": "e2f7889b-a486-42ba-81d2-6bcacb285c69",
   "metadata": {},
   "outputs": [
    {
     "data": {
      "text/plain": [
       "{1: 'a',\n",
       " 2: 'b',\n",
       " 3: 'c',\n",
       " 4: 'd',\n",
       " 5: 'e',\n",
       " 6: 'f',\n",
       " 7: 'g',\n",
       " 8: 'h',\n",
       " 9: 'i',\n",
       " 10: 'j',\n",
       " 11: 'k',\n",
       " 12: 'l',\n",
       " 13: 'm',\n",
       " 14: 'n',\n",
       " 15: 'o',\n",
       " 16: 'p',\n",
       " 17: 'q',\n",
       " 18: 'r',\n",
       " 19: 's',\n",
       " 20: 't',\n",
       " 21: 'u',\n",
       " 22: 'v',\n",
       " 23: 'w',\n",
       " 24: 'x',\n",
       " 25: 'y',\n",
       " 26: 'z',\n",
       " 0: '.'}"
      ]
     },
     "execution_count": 3,
     "metadata": {},
     "output_type": "execute_result"
    }
   ],
   "source": [
    "chars = sorted(list(set(''.join(words))))\n",
    "stoi = {s: i+1 for i,s in enumerate(chars)}\n",
    "stoi['.'] = 0\n",
    "itos = {i:s for s,i in stoi.items()}\n",
    "itos"
   ]
  },
  {
   "cell_type": "markdown",
   "id": "648eaef0-3270-4d99-a1fb-c02dc7bfda8c",
   "metadata": {},
   "source": [
    "We now create a function that allows or us to build our learning set. We convert our list of words into n-graphs of size block_size. We create a correspondence between the n-1 characters and the nth character where X stores the n-1 character and Y stores the resulting characters. "
   ]
  },
  {
   "cell_type": "code",
   "execution_count": 4,
   "id": "007dd058-94bd-44d0-af46-3a58d989379b",
   "metadata": {},
   "outputs": [],
   "source": [
    "def build_dataset(words, block_size):\n",
    "    X, Y = [], []\n",
    "    for w in words:\n",
    "        context = [0]*block_size\n",
    "        for ch in w+'.':\n",
    "            ix = stoi[ch]\n",
    "            X.append(context)\n",
    "            Y.append(ix)\n",
    "            context = context[1:]+[ix]\n",
    "    \n",
    "    X = torch.tensor(X)\n",
    "    Y = torch.tensor(Y)\n",
    "    return(X,Y)"
   ]
  },
  {
   "cell_type": "markdown",
   "id": "3d4afd9b-311e-466e-9f26-fa55c4a13f28",
   "metadata": {},
   "source": [
    "Now, we wish to avoid having our model \"memorize\" the training set. If we have enough neurons in the network, then we risk overfitting, where the odds of producing anything new or generative becomes near 0. To avoid this, we split up our set of names. We train the network on 80% of the names and make sure the fit is good with another 10% of the names. Doing it this ways makes sure that it isnt simply regurgitating the 80% it was trained on."
   ]
  },
  {
   "cell_type": "code",
   "execution_count": 5,
   "id": "44da2586-25e8-48d7-9731-43e6bd260930",
   "metadata": {},
   "outputs": [],
   "source": [
    "random.shuffle(words) #random order of names\n",
    "n1 = int(.8 * len(words)) #marker of where 80% of names end\n",
    "n2 = int(.9*len(words)) #marker of where 90% end\n",
    "block_size = 3 #size of n-grams\n",
    "\n",
    "Xtr, Ytr = build_dataset(words[:n1], block_size) #taking first 80%\n",
    "Xval, Yval = build_dataset(words[n1:n2], block_size) #taking next 10%\n",
    "Xtst, Ytst = build_dataset(words[n2:], block_size) #final 10%"
   ]
  },
  {
   "cell_type": "markdown",
   "id": "57efdb6f-e52e-4381-bca3-aa769a6daa39",
   "metadata": {},
   "source": [
    "## Structure of Network\n",
    "\n",
    "We first want to embed our set of inputs of into a matrix of size $27 \\times dim$. This embedding will result in a tensor of $N \\times n \\times dim$ where N is the number of n-grams in our training set and n is the n-gram size. We then want to collapse this tensor back to being a 2d matrix of size $N \\times n\\cdot dim$. Doing this allows us to use standard matrix multiplication in our linear steps. \n",
    "\n",
    "Recall that matrix multiplication turns matrices into linear functions. Thus, we can view our weight matrix as a function from our input layer into our hidden layer. Thus our weight matrix must be a function $\\mathbb{R}^{n\\cdot dim} \\rightarrow \\mathbb{R}^{m}$ where $m$ is the number of hidden layers. We then use the affine function of matrix addition. Through broadcasting our biases only need to be of size $m$. Finally, we want to take our hidden layer and output probability of characters. Thus, we want our weight matrix to be a function $\\mathbb{R}^{m} \\rightarrow \\mathbb{R}^{27}$. We finish by adding biases."
   ]
  },
  {
   "cell_type": "code",
   "execution_count": 6,
   "id": "ef040962-7f87-4bb1-af02-91897f39b15a",
   "metadata": {},
   "outputs": [],
   "source": [
    "hiddenlayersize = 200 #this is our m in the paragraph above\n",
    "dimension = 10 #this is dim in the paragraph above\n",
    "C = torch.randn((27,dimension),  requires_grad = True) #for embedding\n",
    "W1 = torch.randn((block_size*dimension, hiddenlayersize), requires_grad = True) #first weight function\n",
    "b1 = torch.randn((1,hiddenlayersize),  requires_grad = True) #first bias function\n",
    "W2 = torch.randn((hiddenlayersize, 27),  requires_grad = True) #second weight function\n",
    "b2 = torch.randn((27),  requires_grad = True) #second bias function\n",
    "Paramaters = [C, W1, b1, W2, b2] #list of all parameters"
   ]
  },
  {
   "cell_type": "code",
   "execution_count": 7,
   "id": "2e65b7fc-4576-4fb0-a75f-806c2a7c6708",
   "metadata": {},
   "outputs": [],
   "source": [
    "emb = C[Xtr] #our embedding process"
   ]
  },
  {
   "cell_type": "code",
   "execution_count": 8,
   "id": "a32d302b-13b1-41ad-a542-546e5388dc7f",
   "metadata": {},
   "outputs": [],
   "source": [
    "layer1 = emb.view(emb.shape[0], block_size*dimension) @ W1+b1 #collapse matrix and apply weight function and bias function\n",
    "h= torch.tanh(layer1) #hidden layer function"
   ]
  },
  {
   "cell_type": "code",
   "execution_count": 9,
   "id": "179fc255-7f55-4bb6-b968-4e3200573d06",
   "metadata": {},
   "outputs": [],
   "source": [
    "layer2 = (h @W2+b2) #apply second weight function and bias function\n",
    "loss =  F.cross_entropy(layer2, Ytr)"
   ]
  },
  {
   "cell_type": "markdown",
   "id": "7371b34b-0359-4643-9f58-bc0c9522a4a3",
   "metadata": {},
   "source": [
    "This loss function is infact the same as our prior loss functions but it is quicker. Part of the reason is the function it calls is written in C++ another part is how well it calculates derivatives. \n",
    "\n",
    "As a reminder, the loss function is the $\\frac{\\sum_{i = 0}^n (\\log(p_i))}{n+1}$ where $p_i$ is the probability of out put $Y_i$ given input $X_i$.\n",
    "\n",
    "Our initial lost is going to be extremely high given we have many parameters initialized randomly with no training"
   ]
  },
  {
   "cell_type": "code",
   "execution_count": 10,
   "id": "118cd306-37ff-45bb-a1fe-c260e459eeab",
   "metadata": {},
   "outputs": [
    {
     "data": {
      "text/plain": [
       "tensor(25.6367, grad_fn=<NllLossBackward0>)"
      ]
     },
     "execution_count": 10,
     "metadata": {},
     "output_type": "execute_result"
    }
   ],
   "source": [
    "loss"
   ]
  },
  {
   "cell_type": "markdown",
   "id": "d875c29f-aefd-45be-993e-1040dddb7e40",
   "metadata": {},
   "source": [
    "We now remind the reader of the standard process of training our parameters. This is a process that has been seen in the prior two notebooks"
   ]
  },
  {
   "cell_type": "code",
   "execution_count": 11,
   "id": "662b2791-ba0c-4ba1-937f-cf644c650eaa",
   "metadata": {},
   "outputs": [],
   "source": [
    "for p in Paramaters:\n",
    "    p.grad = None #set all partial derivatives to 0"
   ]
  },
  {
   "cell_type": "code",
   "execution_count": 12,
   "id": "92834d2e-93de-46bd-9c04-742f899f3461",
   "metadata": {},
   "outputs": [],
   "source": [
    "loss.backward(retain_graph = True) #back propogate partial derivatives"
   ]
  },
  {
   "cell_type": "code",
   "execution_count": 13,
   "id": "ca29bd0e-2d6f-429d-8fcf-4a513eb03734",
   "metadata": {},
   "outputs": [],
   "source": [
    "for p in Paramaters:\n",
    "    p.data -= .1*p.grad #adjust  parameters by subtracting some small multiple of the partial derivative"
   ]
  },
  {
   "cell_type": "code",
   "execution_count": 14,
   "id": "c3050d8a-8545-4cb3-90fa-eb38fc848219",
   "metadata": {},
   "outputs": [],
   "source": [
    "emb = C[Xtr] #reinitialize the embedding and run network again\n",
    "layer1 = emb.view(emb.shape[0], block_size*dimension) @ W1+b1\n",
    "h= torch.tanh(layer1)\n",
    "layer2 =(h @W2+b2) \n",
    "loss = F.cross_entropy(layer2, Ytr)"
   ]
  },
  {
   "cell_type": "code",
   "execution_count": 15,
   "id": "10caa92b-cce7-4bc8-9212-cee51e4d68f3",
   "metadata": {},
   "outputs": [
    {
     "data": {
      "text/plain": [
       "tensor(24.0903, grad_fn=<NllLossBackward0>)"
      ]
     },
     "execution_count": 15,
     "metadata": {},
     "output_type": "execute_result"
    }
   ],
   "source": [
    "loss"
   ]
  },
  {
   "cell_type": "markdown",
   "id": "e889633f-9a3c-482f-987b-8aaa82df856f",
   "metadata": {},
   "source": [
    "We run through this process once more to show how the rate of change of loss is decreasing. Each successive runs lowers the loss by a lower ammount. i.e. the second derivative is positive while our first derivative is negative."
   ]
  },
  {
   "cell_type": "code",
   "execution_count": 16,
   "id": "9dddecfc-4ea0-4642-8394-d9669226dc0e",
   "metadata": {},
   "outputs": [],
   "source": [
    "for p in Paramaters:\n",
    "    p.grad = None"
   ]
  },
  {
   "cell_type": "code",
   "execution_count": 17,
   "id": "35273819-0b51-4c2d-ae23-ee29df0905a7",
   "metadata": {},
   "outputs": [],
   "source": [
    "loss.backward(retain_graph = True)"
   ]
  },
  {
   "cell_type": "code",
   "execution_count": 18,
   "id": "19c266ac-3752-482d-b917-7edb25ab23ad",
   "metadata": {},
   "outputs": [],
   "source": [
    "for p in Paramaters:\n",
    "    p.data -= .1*p.grad"
   ]
  },
  {
   "cell_type": "code",
   "execution_count": 19,
   "id": "54330bf3-0415-4611-89de-3b7d599857dc",
   "metadata": {},
   "outputs": [],
   "source": [
    "h= torch.tanh(emb.view(emb.shape[0], block_size*dimension) @ W1+b1)\n",
    "loss = F.cross_entropy((h@W2+b2),Ytr)"
   ]
  },
  {
   "cell_type": "code",
   "execution_count": 20,
   "id": "780ed234-85e4-4418-ba14-47950adad888",
   "metadata": {},
   "outputs": [
    {
     "data": {
      "text/plain": [
       "tensor(23.2301, grad_fn=<NllLossBackward0>)"
      ]
     },
     "execution_count": 20,
     "metadata": {},
     "output_type": "execute_result"
    }
   ],
   "source": [
    "loss"
   ]
  },
  {
   "cell_type": "markdown",
   "id": "4de615b2-84ce-4632-b4f5-a61f26458de4",
   "metadata": {},
   "source": [
    "Now we want to talk about how to scale this process such that we can minimize our loss quickly without too much overhead. The first problem we need to tackle is discovering a good learning rate. Picking a poor learning rate can mean that we have to run the loop more than otherwise needed - slowing down the entire process."
   ]
  },
  {
   "cell_type": "code",
   "execution_count": 21,
   "id": "b343ef78-4307-45bb-9bf6-89a38650c959",
   "metadata": {},
   "outputs": [],
   "source": [
    "#Learning rate searching\n",
    "runs = 1000\n",
    "lre = torch.linspace(-3,0, runs)\n",
    "lr = 10**lre"
   ]
  },
  {
   "cell_type": "markdown",
   "id": "ad82ce35-6295-4053-b5a2-5069326c1255",
   "metadata": {},
   "source": [
    "Before we run the entire loop, note if we consider everysingle input, we have thousands upon thousands of calculations to do every run. This takes a long time, instead we want to randomly sample different inputs and lower the loss that way. This will quicken the process of lowering the loss by a sizeable amount."
   ]
  },
  {
   "cell_type": "code",
   "execution_count": 22,
   "id": "8a59ca72-bd48-4ba7-8f25-734138d33932",
   "metadata": {},
   "outputs": [],
   "source": [
    "lri = []\n",
    "lossi = []\n",
    "for k in range(runs):\n",
    "    #takes too long to run through all 20k, so we 'minibatch'\n",
    "    ix = torch.randint(0,Xtr.shape[0], (128,))\n",
    "\n",
    "    #forward pass\n",
    "    emb = C[Xtr[ix]]\n",
    "    h= torch.tanh(emb.view(emb.shape[0], block_size*dimension) @ W1+b1)\n",
    "    loss = F.cross_entropy((h@W2+b2),Ytr[ix])\n",
    "\n",
    "    #backward pass\n",
    "    for p in Paramaters:\n",
    "        p.grad = None\n",
    "    loss.backward()\n",
    "    learning = lr[k]\n",
    "    for p in Paramaters:\n",
    "        p.data -= learning*p.grad\n",
    "\n",
    "    #track for optimization\n",
    "    lri.append(lre[k])\n",
    "    lossi.append(loss.item())"
   ]
  },
  {
   "cell_type": "code",
   "execution_count": 23,
   "id": "16495773-fe64-435b-a0d6-bdeb91cf5d4c",
   "metadata": {},
   "outputs": [
    {
     "data": {
      "text/plain": [
       "[<matplotlib.lines.Line2D at 0x149759d50>]"
      ]
     },
     "execution_count": 23,
     "metadata": {},
     "output_type": "execute_result"
    },
    {
     "data": {
      "image/png": "[encoded data removed]",
      "text/plain": [
       "<Figure size 640x480 with 1 Axes>"
      ]
     },
     "metadata": {},
     "output_type": "display_data"
    }
   ],
   "source": [
    "plt.plot(lri, lossi)"
   ]
  },
  {
   "cell_type": "markdown",
   "id": "7dd41358-05cc-45e0-aaef-3862450f3abc",
   "metadata": {},
   "source": [
    "Notice our optimal learning rate is occuring close to $10^{-1/2}$. So we will choose that to be our starting learning rate and slowly decay the learning rate as we make more and more runs. We now run the model at large and track our loss with each step."
   ]
  },
  {
   "cell_type": "code",
   "execution_count": 24,
   "id": "00484c2b-7ccb-453d-b815-d39df785c9cb",
   "metadata": {},
   "outputs": [],
   "source": [
    "runs = 60000"
   ]
  },
  {
   "cell_type": "code",
   "execution_count": 25,
   "id": "0f1944c9-e71e-4417-8840-87a4785d3b9a",
   "metadata": {},
   "outputs": [],
   "source": [
    "lossi = []\n",
    "stepi = []\n",
    "\n",
    "for k in range(runs):\n",
    "    #takes too long to run through all 20k, so we 'minibatch'\n",
    "    ix = torch.randint(0,Xtr.shape[0], (128,))\n",
    "\n",
    "    #forward pass\n",
    "    emb = C[Xtr[ix]]\n",
    "    h= torch.tanh(emb.view(emb.shape[0], block_size*dimension) @ W1+b1)\n",
    "    loss = F.cross_entropy((h@W2+b2),Ytr[ix])\n",
    "\n",
    "    #backward pass\n",
    "    for p in Paramaters:\n",
    "        p.grad = None\n",
    "    loss.backward()\n",
    "    lr = .316 - .316*k/runs\n",
    "    for p in Paramaters:\n",
    "        p.data -= lr*p.grad\n",
    "\n",
    "    #track for optimization\n",
    "    lossi.append(loss.log10().item())\n",
    "    stepi.append(k)"
   ]
  },
  {
   "cell_type": "code",
   "execution_count": 26,
   "id": "01152d0d-a3ff-4614-bc18-a904652ca784",
   "metadata": {},
   "outputs": [
    {
     "data": {
      "text/plain": [
       "[<matplotlib.lines.Line2D at 0x153af8d10>]"
      ]
     },
     "execution_count": 26,
     "metadata": {},
     "output_type": "execute_result"
    },
    {
     "data": {
      "image/png": "[encoded data removed]",
      "text/plain": [
       "<Figure size 640x480 with 1 Axes>"
      ]
     },
     "metadata": {},
     "output_type": "display_data"
    }
   ],
   "source": [
    "plt.plot(stepi, lossi)"
   ]
  },
  {
   "cell_type": "markdown",
   "id": "fa175660-00ac-4e32-9c71-90042ce7bc5f",
   "metadata": {},
   "source": [
    "Notice that although Loss stabalizes, it still has quite a bit of noise. This is due to the random sampling taking place. However, even the noise will get thinner upon more runs and the total loss is still being minimized. The model does perform better with 200,000 runs than 20,000 even though the loss only decrease by about .1 in those additional 180,000 runs. \n",
    "\n",
    "We now observe the loss on some of the data note used for training and compare it with the loss for training."
   ]
  },
  {
   "cell_type": "code",
   "execution_count": 27,
   "id": "66a02ecb-602e-4811-9af2-7676fccc254b",
   "metadata": {},
   "outputs": [
    {
     "data": {
      "text/plain": [
       "tensor(2.1548, grad_fn=<NllLossBackward0>)"
      ]
     },
     "execution_count": 27,
     "metadata": {},
     "output_type": "execute_result"
    }
   ],
   "source": [
    "emb = C[Xval]\n",
    "h= torch.tanh(emb.view(emb.shape[0], block_size*dimension) @ W1+b1)\n",
    "loss = F.cross_entropy((h@W2+b2),Yval)\n",
    "loss"
   ]
  },
  {
   "cell_type": "code",
   "execution_count": 28,
   "id": "75f0e88e-2024-40d2-b51b-ea3d61626550",
   "metadata": {},
   "outputs": [
    {
     "data": {
      "text/plain": [
       "tensor(2.1030, grad_fn=<NllLossBackward0>)"
      ]
     },
     "execution_count": 28,
     "metadata": {},
     "output_type": "execute_result"
    }
   ],
   "source": [
    "emb = C[Xtr]\n",
    "h= torch.tanh(emb.view(emb.shape[0], block_size*dimension) @ W1+b1)\n",
    "loss = F.cross_entropy((h@W2+b2),Ytr)\n",
    "loss"
   ]
  },
  {
   "cell_type": "markdown",
   "id": "bf56bfde-d620-41c4-973e-88bf6c370b45",
   "metadata": {},
   "source": [
    "Notice that the losses are relatively closs, however the loss will almost always be less on the training set than the valuating set. "
   ]
  },
  {
   "cell_type": "code",
   "execution_count": 29,
   "id": "9187cdf0-facc-4c83-acee-1707e4758e5a",
   "metadata": {},
   "outputs": [
    {
     "data": {
      "image/png": "[encoded data removed]",
      "text/plain": [
       "<Figure size 800x800 with 1 Axes>"
      ]
     },
     "metadata": {},
     "output_type": "display_data"
    }
   ],
   "source": [
    "plt.figure(figsize =(8,8))\n",
    "plt.scatter(C[:,0].data, C[:,1].data, s=200)\n",
    "for i in range(C.shape[0]):\n",
    "    plt.text(C[i,0].item(), C[i,1].item() , itos[i], ha = \"center\", va = \"center\", color = 'white')\n",
    "plt.grid('minor')"
   ]
  },
  {
   "cell_type": "markdown",
   "id": "03544be4-2c23-4ae3-acc1-308fc2c1b347",
   "metadata": {},
   "source": [
    "The above figure represents how intechangable the model represents each letter. That is, how close of a role do each letter play. This is important because your model may have zero examples of zo occuring in the n-grams. But z is relatively close to h according the model, so it can look at the probability of letters following he in order to train ze. (Note, this graph is not nearly close to perfect is there are actually another 8 dimensions not shown here. One thing we could do to combat this is take the standard inner produt of two characters and use that to measure distance and organize this in a data. However, this is exapansion for another day.) \n",
    "\n",
    "We now generate 20 example names. The code for generating names is almost exactly how we have been doing it in the past"
   ]
  },
  {
   "cell_type": "code",
   "execution_count": 30,
   "id": "4e40f2ae-e4e4-43c9-881e-072fa5ce3978",
   "metadata": {},
   "outputs": [
    {
     "name": "stdout",
     "output_type": "stream",
     "text": [
      "jorne\n",
      "mani\n",
      "jorn\n",
      "yardan\n",
      "amie\n",
      "vaneve\n",
      "willaharier\n",
      "kriston\n",
      "azramari\n",
      "dechntelesteva\n",
      "aysen\n",
      "reya\n",
      "chin\n",
      "hlani\n",
      "ahlani\n",
      "ava\n",
      "loreah\n",
      "gell\n",
      "ganie\n",
      "malitolly\n"
     ]
    }
   ],
   "source": [
    "for i in range(20):\n",
    "    out = ''\n",
    "    context = [0]*block_size\n",
    "    while True:\n",
    "        emb = C[torch.tensor([context])]\n",
    "        h= torch.tanh(emb.view(emb.shape[0], -1) @ W1+b1)\n",
    "        probs = F.softmax(h@W2+b2, dim = 1)\n",
    "        ix = torch.multinomial(probs, num_samples =1 ).item()\n",
    "        context = context[1:]+[ix]\n",
    "        if ix ==0:\n",
    "            break\n",
    "        out += itos[ix]\n",
    "    print(out)"
   ]
  },
  {
   "cell_type": "code",
   "execution_count": null,
   "id": "a94e820c-e182-4405-becc-88fbc7be836b",
   "metadata": {},
   "outputs": [],
   "source": []
  }
 ],
 "metadata": {
  "kernelspec": {
   "display_name": "Python 3 (ipykernel)",
   "language": "python",
   "name": "python3"
  },
  "language_info": {
   "codemirror_mode": {
    "name": "ipython",
    "version": 3
   },
   "file_extension": ".py",
   "mimetype": "text/x-python",
   "name": "python",
   "nbconvert_exporter": "python",
   "pygments_lexer": "ipython3",
   "version": "3.11.9"
  }
 },
 "nbformat": 4,
 "nbformat_minor": 5
}
